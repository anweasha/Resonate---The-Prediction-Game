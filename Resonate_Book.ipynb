{
  "nbformat": 4,
  "nbformat_minor": 0,
  "metadata": {
    "colab": {
      "name": "Resonate_Book.ipynb",
      "provenance": []
    },
    "kernelspec": {
      "name": "python3",
      "display_name": "Python 3"
    },
    "language_info": {
      "name": "python"
    }
  },
  "cells": [
    {
      "cell_type": "code",
      "metadata": {
        "id": "RRUw4rwX-OHX"
      },
      "source": [
        "\n",
        "import pandas as pd \n",
        "import numpy as np"
      ],
      "execution_count": 1,
      "outputs": []
    },
    {
      "cell_type": "code",
      "metadata": {
        "id": "nicA9G0U-gxj"
      },
      "source": [
        "data = pd.read_csv('resonateData.csv')"
      ],
      "execution_count": 3,
      "outputs": []
    },
    {
      "cell_type": "code",
      "metadata": {
        "colab": {
          "base_uri": "https://localhost:8080/"
        },
        "id": "U1NnHn4O-naV",
        "outputId": "07114f23-54c3-4c2e-9c6b-c0605c18e27b"
      },
      "source": [
        "director = input(\"enter the director name \")\n",
        "cast1 = input(\"enter the first cast name \")\n",
        "cast2 = input(\"enter the second cast name \")\n",
        "cast3 = input(\"enter the third cast name \")\n",
        "genre = input(\"enter the genre of the movie \")\n",
        "runtime = float(input(\"enter the runtime of the movie \"))\n",
        "release_year = int(input(\"enter the release year of the movie \"))"
      ],
      "execution_count": 6,
      "outputs": [
        {
          "name": "stdout",
          "output_type": "stream",
          "text": [
            "enter the director name Dee Rees\n",
            "enter the first cast name Brad Pitt\n",
            "enter the second cast name Raymond Cruz\n",
            "enter the third cast name Katie Sarife\n",
            "enter the genre of the movie Drama\n",
            "enter the runtime of the movie 120\n",
            "enter the release year of the movie 2019\n"
          ]
        }
      ]
    },
    {
      "cell_type": "code",
      "metadata": {
        "id": "_yZqNcHZ_Kkn"
      },
      "source": [
        "dict1 = {'director' : director,\n",
        "'cast1' : cast1,\n",
        "'cast2' : cast2,\n",
        "'cast3' : cast3,\n",
        "'genre' : genre,\n",
        "'runtime' : runtime,\n",
        "'release_year' : release_year}\n",
        "\n",
        "data = data.append(dict1,ignore_index=True)"
      ],
      "execution_count": 7,
      "outputs": []
    },
    {
      "cell_type": "code",
      "metadata": {
        "id": "IA1NMK9g_LQQ"
      },
      "source": [
        "X_cat = data[['director',\n",
        " 'cast1',\n",
        " 'cast2',\n",
        " 'cast3',\n",
        " 'genre']]\n"
      ],
      "execution_count": 8,
      "outputs": []
    },
    {
      "cell_type": "code",
      "metadata": {
        "id": "V91jm78d_OGw"
      },
      "source": [
        "X_Num = data[['runtime',\n",
        " 'release_year']]"
      ],
      "execution_count": 9,
      "outputs": []
    },
    {
      "cell_type": "code",
      "metadata": {
        "id": "n84G_pec_Pla"
      },
      "source": [
        "from sklearn.preprocessing import OneHotEncoder\n",
        "onehotencoder = OneHotEncoder()\n",
        "X_cat = onehotencoder.fit_transform(X_cat).toarray()\n",
        "X_cat = pd.DataFrame(X_cat)\n",
        "\n",
        "\n",
        "X_all = pd.concat([X_cat, X_Num], axis = 1)"
      ],
      "execution_count": 10,
      "outputs": []
    },
    {
      "cell_type": "code",
      "metadata": {
        "id": "PxMpC98l_R9A"
      },
      "source": [
        "from sklearn.preprocessing import MinMaxScaler\n",
        "scaler = MinMaxScaler()\n",
        "X = scaler.fit_transform(X_all)\n",
        "\n",
        "data.drop(index=data.shape[0]-1,inplace = True,axis=0)\n"
      ],
      "execution_count": 11,
      "outputs": []
    },
    {
      "cell_type": "code",
      "metadata": {
        "id": "KMCqgN7W_X9D"
      },
      "source": [
        "y = data['category']\n",
        "reshape = X_all.shape[-1]\n",
        "data1 = X[-1]\n",
        "data1 = data1.reshape(-1,reshape)\n",
        "X = np.delete(X,-1,axis = 0)"
      ],
      "execution_count": 13,
      "outputs": []
    },
    {
      "cell_type": "code",
      "metadata": {
        "colab": {
          "base_uri": "https://localhost:8080/"
        },
        "id": "2aNp0DEZ_cyQ",
        "outputId": "adef899b-44a6-404e-e25b-52d4e29f75e7"
      },
      "source": [
        "from sklearn.model_selection import train_test_split\n",
        "X_train, X_test, y_train, y_test = train_test_split(X, y, test_size=0.20, random_state=42)\n",
        "\n",
        "print(X_train.shape,X_test.shape,y_train.shape,y_test.shape)\n",
        "\n",
        "inputShape = X_train.shape[1]"
      ],
      "execution_count": 14,
      "outputs": [
        {
          "output_type": "stream",
          "name": "stdout",
          "text": [
            "(7308, 18232) (1827, 18232) (7308,) (1827,)\n"
          ]
        }
      ]
    },
    {
      "cell_type": "code",
      "metadata": {
        "colab": {
          "base_uri": "https://localhost:8080/"
        },
        "id": "sZMP2ODe_kWR",
        "outputId": "5e7767b9-a67d-4a79-b9f4-142c73865217"
      },
      "source": [
        "import tensorflow as tf \n",
        "\n",
        "model = tf.keras.models.Sequential()\n",
        "\n",
        "model.add(tf.keras.layers.Dense(units = 500 , activation = 'relu' , input_shape =(inputShape, )))\n",
        "model.add(tf.keras.layers.Dense(units = 500 , activation =  'relu'))\n",
        "model.add(tf.keras.layers.Dense(units = 500 , activation =  'relu'))\n",
        "model.add(tf.keras.layers.Dense(units = 1 , activation =  'sigmoid'))\n",
        "\n",
        "model.compile(optimizer= \"Adam\" , loss = \"binary_crossentropy\", metrics=['accuracy'])\n",
        "\n",
        "epochs_hist = model.fit(X_train,y_train , epochs=10, batch_size=50)\n"
      ],
      "execution_count": 15,
      "outputs": [
        {
          "output_type": "stream",
          "name": "stdout",
          "text": [
            "Epoch 1/10\n",
            "147/147 [==============================] - 9s 59ms/step - loss: 0.6547 - accuracy: 0.5950\n",
            "Epoch 2/10\n",
            "147/147 [==============================] - 9s 59ms/step - loss: 0.2004 - accuracy: 0.9295\n",
            "Epoch 3/10\n",
            "147/147 [==============================] - 9s 58ms/step - loss: 0.0207 - accuracy: 0.9938\n",
            "Epoch 4/10\n",
            "147/147 [==============================] - 9s 59ms/step - loss: 0.0059 - accuracy: 0.9981\n",
            "Epoch 5/10\n",
            "147/147 [==============================] - 9s 59ms/step - loss: 0.0033 - accuracy: 0.9986\n",
            "Epoch 6/10\n",
            "147/147 [==============================] - 9s 59ms/step - loss: 0.0018 - accuracy: 0.9990\n",
            "Epoch 7/10\n",
            "147/147 [==============================] - 9s 59ms/step - loss: 0.0010 - accuracy: 0.9992\n",
            "Epoch 8/10\n",
            "147/147 [==============================] - 9s 60ms/step - loss: 0.0012 - accuracy: 0.9993\n",
            "Epoch 9/10\n",
            "147/147 [==============================] - 9s 59ms/step - loss: 0.0011 - accuracy: 0.9992\n",
            "Epoch 10/10\n",
            "147/147 [==============================] - 9s 59ms/step - loss: 0.0011 - accuracy: 0.9993\n"
          ]
        }
      ]
    },
    {
      "cell_type": "code",
      "metadata": {
        "colab": {
          "base_uri": "https://localhost:8080/"
        },
        "id": "4Lvyz1H5_nSS",
        "outputId": "3a3245e6-5d8a-4eac-ddd7-1c14c67f3b6e"
      },
      "source": [
        "y_pred = model.predict(data1)\n",
        "\n",
        "y_pred = (y_pred > 0.5)\n",
        "\n",
        "value = (y_pred)\n",
        "if value[0,0] ==  True:\n",
        " print(\"Hit!\")\n",
        "else:\n",
        " print(\"Flop!\")"
      ],
      "execution_count": 17,
      "outputs": [
        {
          "output_type": "stream",
          "name": "stdout",
          "text": [
            "Hit!\n"
          ]
        }
      ]
    }
  ]
}